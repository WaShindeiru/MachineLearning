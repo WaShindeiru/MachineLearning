{
 "cells": [
  {
   "cell_type": "markdown",
   "metadata": {},
   "source": [
    "# Lab 2\n",
    "### Autor: Franciszek Data"
   ]
  },
  {
   "cell_type": "code",
   "execution_count": 1,
   "metadata": {},
   "outputs": [],
   "source": [
    "import csv\n",
    "import math\n",
    "import numpy as np\n",
    "from matplotlib import pyplot as plt\n",
    "from IPython.display import display, HTML"
   ]
  },
  {
   "cell_type": "markdown",
   "metadata": {},
   "source": [
    "Wczytanie danych:"
   ]
  },
  {
   "cell_type": "code",
   "execution_count": 2,
   "metadata": {},
   "outputs": [],
   "source": [
    "with open('./measurements.csv', 'r') as f:\n",
    "    csvreader = csv.reader(f, delimiter=',')\n",
    "    data = [row for row in csvreader]\n",
    "    data = np.array(data, dtype=np.float32)"
   ]
  },
  {
   "cell_type": "code",
   "execution_count": 3,
   "metadata": {},
   "outputs": [
    {
     "data": {
      "text/plain": [
       "array([[-20.        ,  -7.516433  ],\n",
       "       [-19.19192   ,  -6.438935  ],\n",
       "       [-18.383839  ,  -6.5596294 ],\n",
       "       [-17.575758  ,  -7.0477824 ],\n",
       "       [-16.767677  ,  -6.883803  ],\n",
       "       [-15.959596  ,  -5.5132365 ],\n",
       "       [-15.151515  ,  -4.7579975 ],\n",
       "       [-14.343434  ,  -5.6220145 ],\n",
       "       [-13.535354  ,  -3.71292   ],\n",
       "       [-12.727273  ,  -3.9765189 ],\n",
       "       [-11.919192  ,  -2.9224136 ],\n",
       "       [-11.111111  ,  -2.3681533 ],\n",
       "       [-10.30303   ,  -3.0927727 ],\n",
       "       [ -9.494949  ,  -2.798137  ],\n",
       "       [ -8.686869  ,  -2.648938  ],\n",
       "       [ -7.878788  ,  -2.289801  ],\n",
       "       [ -7.070707  ,  -1.8698375 ],\n",
       "       [ -6.262626  ,  -1.9554752 ],\n",
       "       [ -5.4545455 ,  -0.09174228],\n",
       "       [ -4.646465  ,  -0.34343567],\n",
       "       [ -3.838384  ,   0.18749848],\n",
       "       [ -3.030303  ,  -0.684162  ],\n",
       "       [ -2.2222223 ,  -0.6887711 ],\n",
       "       [ -1.4141414 ,   1.5642335 ],\n",
       "       [ -0.6060606 ,   1.5549055 ],\n",
       "       [  0.2020202 ,   0.7648572 ],\n",
       "       [  1.010101  ,   0.43263912],\n",
       "       [  1.8181819 ,   1.947425  ],\n",
       "       [  2.6262627 ,   1.5122976 ],\n",
       "       [  3.4343433 ,   1.0476279 ],\n",
       "       [  4.242424  ,   1.3950589 ],\n",
       "       [  5.050505  ,   1.9539421 ],\n",
       "       [  5.858586  ,   3.3739448 ],\n",
       "       [  6.6666665 ,   3.6115189 ],\n",
       "       [  7.4747477 ,   2.662279  ],\n",
       "       [  8.282828  ,   2.4171119 ],\n",
       "       [  9.090909  ,   3.6516175 ],\n",
       "       [  9.89899   ,   3.7761347 ],\n",
       "       [ 10.70707   ,   3.421748  ],\n",
       "       [ 11.515152  ,   3.576595  ],\n",
       "       [ 12.323233  ,   4.402416  ],\n",
       "       [ 13.131313  ,   3.5081632 ],\n",
       "       [ 13.939394  ,   4.794447  ],\n",
       "       [ 14.747475  ,   4.248037  ],\n",
       "       [ 15.555555  ,   5.434307  ],\n",
       "       [ 16.363636  ,   5.09207   ],\n",
       "       [ 17.171717  ,   4.700001  ],\n",
       "       [ 17.979797  ,   5.470508  ],\n",
       "       [ 18.787878  ,   4.799301  ],\n",
       "       [ 19.595959  ,   4.933721  ],\n",
       "       [ 20.404041  ,   5.2449603 ],\n",
       "       [ 21.212122  ,   6.3634725 ],\n",
       "       [ 22.020203  ,   6.297848  ],\n",
       "       [ 22.828283  ,   5.8674974 ],\n",
       "       [ 23.636364  ,   6.498334  ],\n",
       "       [ 24.444445  ,   7.3456163 ],\n",
       "       [ 25.252525  ,   7.6774855 ],\n",
       "       [ 26.060606  ,   6.543402  ],\n",
       "       [ 26.868687  ,   7.8814306 ],\n",
       "       [ 27.676767  ,   7.778891  ],\n",
       "       [ 28.484848  ,   8.7596245 ],\n",
       "       [ 29.292929  ,   8.263     ],\n",
       "       [ 30.10101   ,   8.889402  ],\n",
       "       [ 30.90909   ,   8.2216015 ],\n",
       "       [ 31.717173  ,   9.059616  ],\n",
       "       [ 32.525253  ,   9.2313175 ],\n",
       "       [ 33.333332  ,   9.665957  ],\n",
       "       [ 34.141415  ,  10.184536  ],\n",
       "       [ 34.949493  ,  10.050601  ],\n",
       "       [ 35.757576  ,   9.781039  ],\n",
       "       [ 36.565655  ,  10.599093  ],\n",
       "       [ 37.373737  ,   9.833663  ],\n",
       "       [ 38.18182   ,  10.125775  ],\n",
       "       [ 38.9899    ,  11.004492  ],\n",
       "       [ 39.79798   ,  11.126676  ],\n",
       "       [ 40.60606   ,  10.895506  ],\n",
       "       [ 41.414143  ,  12.441209  ],\n",
       "       [ 42.22222   ,  12.26879   ],\n",
       "       [ 43.030304  ,  12.539887  ],\n",
       "       [ 43.838383  ,  13.292055  ],\n",
       "       [ 44.646465  ,  13.281461  ],\n",
       "       [ 45.454544  ,  13.322338  ],\n",
       "       [ 46.262627  ,  13.828712  ],\n",
       "       [ 47.070705  ,  13.963735  ],\n",
       "       [ 47.878788  ,  14.927034  ],\n",
       "       [ 48.68687   ,  15.569708  ],\n",
       "       [ 49.49495   ,  15.292156  ],\n",
       "       [ 50.303032  ,  15.189339  ],\n",
       "       [ 51.11111   ,  15.694449  ],\n",
       "       [ 51.919193  ,  17.527985  ],\n",
       "       [ 52.727272  ,  17.583624  ],\n",
       "       [ 53.535355  ,  18.55465   ],\n",
       "       [ 54.343433  ,  17.947384  ],\n",
       "       [ 55.151516  ,  18.598848  ],\n",
       "       [ 55.959595  ,  19.827402  ],\n",
       "       [ 56.767677  ,  19.777775  ],\n",
       "       [ 57.575756  ,  20.03808   ],\n",
       "       [ 58.38384   ,  21.735107  ],\n",
       "       [ 59.191917  ,  21.04122   ],\n",
       "       [ 60.        ,  22.608131  ]], dtype=float32)"
      ]
     },
     "metadata": {},
     "output_type": "display_data"
    }
   ],
   "source": [
    "display(data)"
   ]
  },
  {
   "cell_type": "code",
   "execution_count": 4,
   "metadata": {},
   "outputs": [],
   "source": [
    "x = data[:, 0]\n",
    "y = data[:, 1]"
   ]
  },
  {
   "cell_type": "code",
   "execution_count": 5,
   "metadata": {},
   "outputs": [
    {
     "data": {
      "image/png": "[encoded data removed]",
      "text/plain": [
       "<Figure size 640x480 with 1 Axes>"
      ]
     },
     "metadata": {},
     "output_type": "display_data"
    }
   ],
   "source": [
    "plt.figure()\n",
    "plt.scatter(x, y)\n",
    "plt.show()\n",
    "theta_0 = 3\n",
    "theta_1 = 4"
   ]
  },
  {
   "cell_type": "code",
   "execution_count": 6,
   "metadata": {},
   "outputs": [],
   "source": [
    "def h_fun(x, theta_0, theta_1):\n",
    "    '''\n",
    "    :param x: ndarray o wymiarze ilości przykładów\n",
    "    :param theta_0: parametr wolny modelu regresji liniowej jednej zmiennej\n",
    "    :param theta_1: parametr przy xi modelu regresji liniowej jednej zmiennej\n",
    "    :return: ndarray o wymiarze takim samym jak x, który zawiera wartości f. regresji liniowej dla podanych wag\n",
    "    '''\n",
    "    return theta_0 + x * theta_1"
   ]
  },
  {
   "cell_type": "code",
   "execution_count": 7,
   "metadata": {},
   "outputs": [],
   "source": [
    "def calculate_cost(x, y, theta_0, theta_1):\n",
    "    '''\n",
    "    :param x: ndarray o wymiarze ilości przykładów\n",
    "    :param y: ndarray z wartościami referencyjnymi o wymiarze takim jak x\n",
    "    :param theta_0: parametr wolny modelu regresji liniowej jednej zmiennej\n",
    "    :param theta_1: parametr przy xi modelu regresji liniowej jednej zmiennej\n",
    "    :return: wartość funkcji kosztu dla podanych paramterów modelu\n",
    "    '''\n",
    "    return ((h_fun(x, theta_0, theta_1) - y)**2).sum() / (2*x.shape[0])"
   ]
  },
  {
   "cell_type": "code",
   "execution_count": 8,
   "metadata": {},
   "outputs": [],
   "source": [
    "eps = 1e-5  # akceptowalna różnica dla kolejnych wartości funkcji kosztu \n",
    "alpha = 0.001  # learning rate\n",
    "theta_0 = 0  # - wartości początkowe parametrów modelu\n",
    "theta_1 = 0"
   ]
  },
  {
   "cell_type": "code",
   "execution_count": 43,
   "metadata": {},
   "outputs": [],
   "source": [
    "def draw(x, y, theta_0, theta_1):\n",
    "    plt.figure()\n",
    "    plt.scatter(x, y)\n",
    "    plt.plot(x, x * theta_1 + theta_0, 'g')\n",
    "    plt.show()"
   ]
  },
  {
   "cell_type": "code",
   "execution_count": 29,
   "metadata": {},
   "outputs": [],
   "source": [
    "def computeDerivative(x, y, theta_0, theta_1):\n",
    "    size = x.shape[0]\n",
    "    xderivative = 0\n",
    "    for i in range(size):\n",
    "        xderivative += (h_fun(x[i], theta_0, theta_1) - y[i]) * x[i]\n",
    "\n",
    "    xderivative = xderivative / size\n",
    "\n",
    "    yderivative = (h_fun(x, theta_0, theta_1) - y).sum() / size\n",
    "\n",
    "    return [yderivative, xderivative]"
   ]
  },
  {
   "cell_type": "code",
   "execution_count": 40,
   "metadata": {},
   "outputs": [],
   "source": [
    "def simpleLinearRegression(x, y, theta_0, theta_1, learningRate, epsilon):\n",
    "    i = 0\n",
    "    costList = []\n",
    "    derivatveList = []\n",
    "    theta_0_list = []\n",
    "    theta_1_list = []\n",
    "\n",
    "    while(i < 2 or abs((costList[i-1] - costList[i-2])) > epsilon):\n",
    "        derivatives = computeDerivative(x, y, theta_0, theta_1)\n",
    "        derivatveList.append(derivatives)\n",
    "        theta_0_derivative = derivatives[0]\n",
    "        theta_1_derivative = derivatives[1]\n",
    "\n",
    "        theta_0 = theta_0 - learningRate * theta_0_derivative\n",
    "        theta_1 = theta_1 - learningRate * theta_1_derivative\n",
    "\n",
    "        theta_0_list.append(theta_0)\n",
    "        theta_1_list.append(theta_1)\n",
    "\n",
    "        cost = calculate_cost(x, y, theta_0, theta_1)\n",
    "        costList.append(cost)\n",
    "        print(cost)\n",
    "\n",
    "        i += 1\n",
    "\n",
    "    return [theta_0, theta_1, i, costList[-1]]"
   ]
  },
  {
   "cell_type": "code",
   "execution_count": 41,
   "metadata": {},
   "outputs": [
    {
     "name": "stdout",
     "output_type": "stream",
     "text": [
      "0.6460328674316407\n",
      "0.6460222625732421\n",
      "0.6460124206542969\n"
     ]
    }
   ],
   "source": [
    "theta_0, theta_1, i, cost = simpleLinearRegression(x, y, theta_0, theta_1, alpha, eps)"
   ]
  },
  {
   "cell_type": "code",
   "execution_count": 44,
   "metadata": {},
   "outputs": [
    {
     "name": "stdout",
     "output_type": "stream",
     "text": [
      "theta_0: 0.09713452599535533, theta_1: 0.3134657038414949\n",
      "cost: 0.6460124206542969\n"
     ]
    },
    {
     "data": {
      "image/png": "[encoded data removed]",
      "text/plain": [
       "<Figure size 640x480 with 1 Axes>"
      ]
     },
     "metadata": {},
     "output_type": "display_data"
    }
   ],
   "source": [
    "print(f\"theta_0: {theta_0}, theta_1: {theta_1}\")\n",
    "print(f\"cost: {cost}\")\n",
    "draw(x, y, theta_0, theta_1)"
   ]
  }
 ],
 "metadata": {
  "kernelspec": {
   "display_name": "DataVenv",
   "language": "python",
   "name": "python3"
  },
  "language_info": {
   "codemirror_mode": {
    "name": "ipython",
    "version": 3
   },
   "file_extension": ".py",
   "mimetype": "text/x-python",
   "name": "python",
   "nbconvert_exporter": "python",
   "pygments_lexer": "ipython3",
   "version": "3.11.8"
  }
 },
 "nbformat": 4,
 "nbformat_minor": 2
}
