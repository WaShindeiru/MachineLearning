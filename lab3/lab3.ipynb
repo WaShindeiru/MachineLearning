{
 "cells": [
  {
   "cell_type": "markdown",
   "metadata": {},
   "source": [
    "## Lab 3\n",
    "### Regresja Logistyczna\n",
    "#### Autor: Franciszek"
   ]
  },
  {
   "cell_type": "code",
   "execution_count": null,
   "metadata": {},
   "outputs": [],
   "source": [
    "import csv\n",
    "import math\n",
    "import numpy as np\n",
    "import PIL.Image\n",
    "import IPython.display\n",
    "from matplotlib import pyplot as plt\n",
    "from copy import deepcopy"
   ]
  },
  {
   "cell_type": "code",
   "execution_count": null,
   "metadata": {},
   "outputs": [],
   "source": [
    "def sigmoid(y):\n",
    "    return 1.0 / (1.0 + np.exp(-y))"
   ]
  },
  {
   "cell_type": "code",
   "execution_count": null,
   "metadata": {},
   "outputs": [],
   "source": [
    "temp = np.linspace(-10, 10, 10000)\n",
    "temp = np.reshape(temp, [-1, 1])\n",
    "y = sigmoid(temp)\n",
    "y = np.reshape(y, [-1, 1])\n",
    "plt.figure()\n",
    "plt.plot(temp, y)\n",
    "plt.show()"
   ]
  },
  {
   "cell_type": "code",
   "execution_count": null,
   "metadata": {},
   "outputs": [],
   "source": [
    "def h_fun(X, theta):\n",
    "    '''\n",
    "    :param X: ndarray postaci (n+1, m).\n",
    "    :param theta: macierz parametrów do optymalizacji postaci (n+1, 1)\n",
    "    :return: \n",
    "    '''\n",
    "    z = np.matmul(theta.T, X)\n",
    "    h = sigmoid(z)\n",
    "    if np.any(h == 0):\n",
    "        h += 1e-30\n",
    "    if np.any(h == 1):\n",
    "        h -= 1e-30\n",
    "    return h"
   ]
  },
  {
   "cell_type": "code",
   "execution_count": null,
   "metadata": {},
   "outputs": [],
   "source": [
    "def calculate_cost(X, y, theta):\n",
    "    '''\n",
    "    :param X: ndarray postaci (n+1, m).\n",
    "    :param y: ndarray z wartościami referencyjnymi o wymiarze (1, m)\n",
    "    :param theta: macierz parametrów do optymalizacji postaci (n+1, 1)\n",
    "    :return: wartość f. kosztu\n",
    "    '''\n",
    "    m = X.shape[1]\n",
    "    h = h_fun(X, theta)\n",
    "    y_1 = -y*np.log(h)\n",
    "    y_0 = -(1-y)*np.log(1-h)\n",
    "    return (y_1 + y_0).sum() / m"
   ]
  },
  {
   "cell_type": "code",
   "execution_count": null,
   "metadata": {},
   "outputs": [],
   "source": [
    "def computeDerivativeMultivariable(X, Y, theta):\n",
    "    '''\n",
    "    :param X: ndarray postaci (n+1, m).\n",
    "    :param y: ndarray z wartościami referencyjnymi o wymiarze (1, m)\n",
    "    :param theta: macierz parametrów do optymalizacji postaci (n+1, 1)\n",
    "    :return: wartość f. kosztu\n",
    "    '''\n",
    "    n,m = X.shape # number of features, number of examples\n",
    "    \n",
    "    diff = (h_fun(X, theta) - Y)\n",
    "    gradient = np.matmul(diff, X.T)\n",
    "    gradient = gradient / m\n",
    "\n",
    "    return gradient.T"
   ]
  },
  {
   "cell_type": "code",
   "execution_count": null,
   "metadata": {},
   "outputs": [],
   "source": [
    "def LogisticRegression(X, Y, theta_in, learningRate, epsilon):\n",
    "    i = 0\n",
    "    costList = []\n",
    "    derivatveList = []\n",
    "    thetaList = []\n",
    "\n",
    "    theta = deepcopy(theta_in)\n",
    "\n",
    "    while(i < 2 or abs((costList[i-1] - costList[i-2])) > epsilon):\n",
    "        derivative = computeDerivativeMultivariable(X, Y, theta)\n",
    "        derivatveList.append(derivative)\n",
    "\n",
    "        theta = theta - learningRate * derivative\n",
    "        thetaList.append(theta)\n",
    "\n",
    "        cost = calculate_cost(X, Y, theta)\n",
    "        costList.append(cost)\n",
    "        \n",
    "        print(f\"Iteration: {i}, Cost: {costList[-1]}\")\n",
    "\n",
    "        i += 1\n",
    "\n",
    "    return [theta, i, costList]"
   ]
  },
  {
   "cell_type": "code",
   "execution_count": null,
   "metadata": {},
   "outputs": [],
   "source": [
    "def computeResult(theta, example, X_scale, y_scale):\n",
    "    return sigmoid(np.matmul(theta.T, example/X_scale) * y_scale)"
   ]
  },
  {
   "cell_type": "code",
   "execution_count": null,
   "metadata": {},
   "outputs": [],
   "source": [
    "X = np.array([[1.0, 1.0, 1.0, 1.0, 1.0, 1.0, 1.0, 1.0],\n",
    "              [0.3, 0.8, 1.7, 2.4, 2.9, 3.1, 4.5, 6.1]])\n",
    "y = np.array([[0.0, 0.0, 0.0, 0.0, 1.0, 1.0, 1.0, 1.0]])\n",
    "\n",
    "theta_in = np.zeros((2, 1))\n",
    "eps = 1e-5  # akceptowalna różnica dla kolejnych wartości funkcji kosztu \n",
    "alpha = 0.001  # learning rate\n",
    "theta_0 = 0  # - wartości początkowe parametrów modelu\n",
    "theta_1 = 0"
   ]
  },
  {
   "cell_type": "code",
   "execution_count": null,
   "metadata": {},
   "outputs": [],
   "source": [
    "theta, i, costList = LogisticRegression(X, y, theta_in, alpha, eps)"
   ]
  },
  {
   "cell_type": "code",
   "execution_count": null,
   "metadata": {},
   "outputs": [],
   "source": [
    "data = np.linspace(0, 7, 1000)\n",
    "temp = np.vstack([np.ones([1, 1000]), data])\n",
    "data = np.reshape(data, [-1, 1])\n",
    "prediction = computeResult(theta, temp, 1, 1)\n",
    "prediction = np.reshape(prediction, [-1, 1])"
   ]
  },
  {
   "cell_type": "code",
   "execution_count": null,
   "metadata": {},
   "outputs": [],
   "source": [
    "X = np.array([[1.0, 1.0, 1.0, 1.0, 1.0, 1.0, 1.0, 1.0],\n",
    "              [0.3, 0.8, 1.7, 2.4, 2.9, 3.1, 4.5, 6.1]])\n",
    "results = computeResult(theta, X, 1, 1)\n",
    "results = np.where(results <= 0.5, 0, 1)\n",
    "\n",
    "x = np.reshape(X[1, :], [1, -1])\n",
    "results = np.reshape(results, [1, -1])"
   ]
  },
  {
   "cell_type": "code",
   "execution_count": null,
   "metadata": {},
   "outputs": [],
   "source": [
    "plt.figure()\n",
    "plt.plot(data, prediction, 'g')\n",
    "plt.scatter(x, results)\n",
    "plt.show()"
   ]
  },
  {
   "cell_type": "markdown",
   "metadata": {},
   "source": [
    "### zadanie 2."
   ]
  },
  {
   "cell_type": "code",
   "execution_count": null,
   "metadata": {},
   "outputs": [],
   "source": [
    "with open(\"./admission.txt\") as f:\n",
    "    csv_reader = csv.reader(f)\n",
    "    examples = []\n",
    "    for row in csv_reader:\n",
    "        examples.append([float(cell) for cell in row])\n",
    "    data = np.array(examples)\n",
    "    y = data[:, 2:3].T\n",
    "    x = data[:, :2].T\n",
    "    X = np.concatenate([np.ones([1, x.shape[1]]), x])\n",
    " \n",
    "print(f'{X.shape=}')\n",
    "print(f'{y.shape=}')"
   ]
  },
  {
   "cell_type": "code",
   "execution_count": null,
   "metadata": {},
   "outputs": [],
   "source": [
    "value0 = X[:, (y == 0)[0]]\n",
    "value1 = X[:, (y == 1)[0]]\n",
    "\n",
    "plt.figure()\n",
    "plt.scatter(value0[1, :], value0[2, :], marker='o')\n",
    "plt.scatter(value1[1, :], value1[2, :], marker='x')"
   ]
  },
  {
   "cell_type": "code",
   "execution_count": null,
   "metadata": {},
   "outputs": [],
   "source": [
    "theta_in = np.zeros((3, 1))\n",
    "eps = 1e-7  # akceptowalna różnica dla kolejnych wartości funkcji kosztu \n",
    "alpha = 0.001  # learning rate"
   ]
  },
  {
   "cell_type": "code",
   "execution_count": null,
   "metadata": {},
   "outputs": [],
   "source": [
    "theta, i, costList = LogisticRegression(X, y, theta_in, alpha, eps)"
   ]
  },
  {
   "cell_type": "code",
   "execution_count": null,
   "metadata": {},
   "outputs": [],
   "source": [
    "x1_db = np.arange(X[1, :].min(), X[1, :].max(), 1)\n",
    "x2_db = -theta[0, 0]/theta[2, 0] - theta[1, 0]/theta[2, 0]*x1_db\n",
    "plt.figure()\n",
    "plt.plot(x1_db, x2_db, '-m')\n",
    "plt.scatter(value0[1, :], value0[2, :], marker='o')\n",
    "plt.scatter(value1[1, :], value1[2, :], marker='x')\n",
    "plt.show()"
   ]
  },
  {
   "cell_type": "markdown",
   "metadata": {},
   "source": [
    "### Zadanie 3."
   ]
  },
  {
   "cell_type": "code",
   "execution_count": null,
   "metadata": {},
   "outputs": [],
   "source": [
    "with open(\"./admission.txt\") as f:\n",
    "    csv_reader = csv.reader(f)\n",
    "    examples = []\n",
    "    for row in csv_reader:\n",
    "        examples.append([float(cell) for cell in row])\n",
    "    data = np.array(examples)\n",
    "    y = data[:, 2:3].T\n",
    "    x1 = data[:, :1].T\n",
    "    x2 = data[:, 1:2].T\n",
    "    X = np.concatenate([np.ones([1, x1.shape[1]]), x1, x2, x1**2])"
   ]
  },
  {
   "cell_type": "code",
   "execution_count": null,
   "metadata": {},
   "outputs": [],
   "source": [
    "X_max = X.max(axis=1)\n",
    "X_max.shape = [X_max.shape[0], 1]\n",
    "X_min = X.min(axis=1)\n",
    "X_min[0] = 0\n",
    "X_min.shape = [X_min.shape[0], 1]\n",
    "X_normalized = (X - X_min) / (X_max - X_min)"
   ]
  },
  {
   "cell_type": "code",
   "execution_count": null,
   "metadata": {},
   "outputs": [],
   "source": [
    "value0 = X[:, np.where(y == 0)[1]]\n",
    "value1 = X[:, np.where(y == 1)[1]]\n",
    "\n",
    "plt.figure()\n",
    "plt.scatter(value0[1, :], value0[2, :], marker='o')\n",
    "plt.scatter(value1[1, :], value1[2, :], marker='x')\n",
    "plt.ylabel('x2')\n",
    "plt.xlabel('x1')\n",
    "plt.show()"
   ]
  },
  {
   "cell_type": "code",
   "execution_count": null,
   "metadata": {},
   "outputs": [],
   "source": [
    "theta_in = np.ones((4, 1))\n",
    "eps = 1e-7 # akceptowalna różnica dla kolejnych wartości funkcji kosztu \n",
    "alpha = 0.001  # learning rate"
   ]
  },
  {
   "cell_type": "code",
   "execution_count": null,
   "metadata": {},
   "outputs": [],
   "source": [
    "theta, i, costList = LogisticRegression(X_normalized, y, theta_in, alpha, eps)"
   ]
  },
  {
   "cell_type": "code",
   "execution_count": null,
   "metadata": {},
   "outputs": [],
   "source": [
    "x1_db = np.arange(X[1, :].min(), X[1, :].max(), 1)\n",
    "x1_db_normalized = (x1_db - X_min[1, :]) / (X_max[1, :] - X_min[1, :])\n",
    "x2_db = -theta[0, 0]/theta[2, 0] - theta[1, 0]/theta[2, 0]*x1_db_normalized - theta[3, 0] / theta[2, 0] * (np.power(x1_db_normalized, 2))\n",
    "x2_db = x2_db * (X_max[2, :] - X_min[2, :]) + X_min[2, :]\n",
    "plt.figure()\n",
    "plt.plot(np.reshape(x1_db, [-1, 1]), np.reshape(x2_db, [-1, 1]))\n",
    "plt.scatter(value0[1, :], value0[2, :], marker='o')\n",
    "plt.scatter(value1[1, :], value1[2, :], marker='x')\n",
    "plt.ylabel('x2')\n",
    "plt.xlabel('x1')\n",
    "plt.show()"
   ]
  },
  {
   "cell_type": "code",
   "execution_count": null,
   "metadata": {},
   "outputs": [],
   "source": [
    "print(computeResult(theta, [[1],[60], [20], [3600]] - X_min, X_max - X_min, 1))\n",
    "print(computeResult(theta, [[1], [80], [80], [80**2]] - X_min, X_max -X_min, 1))"
   ]
  },
  {
   "cell_type": "markdown",
   "metadata": {},
   "source": [
    "### Zadanie 4."
   ]
  },
  {
   "cell_type": "code",
   "execution_count": null,
   "metadata": {},
   "outputs": [],
   "source": [
    "def computeResult(theta, example, X_scale, y_scale):\n",
    "    return np.where(sigmoid(np.matmul(theta.T, example/X_scale) * y_scale) <= 0.5, 0, 1)"
   ]
  },
  {
   "cell_type": "code",
   "execution_count": null,
   "metadata": {},
   "outputs": [],
   "source": [
    "from sklearn import datasets\n",
    "data = datasets.load_digits()\n",
    "y = data['target']\n",
    "x = data['data']\n",
    "plt.imshow(np.reshape(x[0, :] * 255, [8, 8]))"
   ]
  },
  {
   "cell_type": "code",
   "execution_count": null,
   "metadata": {},
   "outputs": [],
   "source": [
    "from sklearn.model_selection import train_test_split\n",
    " \n",
    "x, x_test, y, y_test = train_test_split(x, y, random_state=1234)"
   ]
  },
  {
   "cell_type": "code",
   "execution_count": null,
   "metadata": {},
   "outputs": [],
   "source": [
    "m,n = x.shape # number of examples, number of features\n",
    "m_test, n_test = x_test.shape\n",
    "x_maximum = np.max(x)\n",
    "x_scaled = x / x_maximum\n",
    "x_test_temp = np.concatenate([np.ones((1, m_test)), x_test.T])\n",
    "\n",
    "theta_list = []\n",
    "cost_list = []\n",
    "eps = 1e-5\n",
    "alpha = 1e-1"
   ]
  },
  {
   "cell_type": "code",
   "execution_count": null,
   "metadata": {},
   "outputs": [],
   "source": [
    "for class_ in range(10):\n",
    "\n",
    "    y_temp = (y == class_).astype(np.int8)\n",
    "    x_temp = np.concatenate([np.ones((1, m)), x_scaled.T])\n",
    "    theta_in = np.zeros((n + 1, 1))\n",
    "\n",
    "    theta, i, costList = LogisticRegression(x_temp, y_temp, theta_in, alpha, eps)\n",
    "\n",
    "    theta_list.append(theta)\n",
    "    cost_list.append(costList[-1])"
   ]
  },
  {
   "cell_type": "code",
   "execution_count": null,
   "metadata": {},
   "outputs": [],
   "source": [
    "precision_list = []\n",
    "recall_list = []"
   ]
  },
  {
   "cell_type": "code",
   "execution_count": null,
   "metadata": {},
   "outputs": [],
   "source": [
    "for class_ in range(10):\n",
    "\n",
    "    result = computeResult(theta_list[class_], x_test_temp, x_maximum, 1)\n",
    "    y_test_temp = (y_test == class_).astype(np.int8)\n",
    "\n",
    "    true_positive = np.logical_and(result == 1, y_test_temp == 1).sum()\n",
    "    false_positive = np.logical_and(result == 1, y_test_temp == 0).sum()\n",
    "    false_negative = np.logical_and(result == 0, y_test_temp == 1).sum()\n",
    "\n",
    "    precision = true_positive / (true_positive + false_positive)\n",
    "    recall = true_positive / (true_positive + false_negative)\n",
    "    \n",
    "    precision_list.append(precision)\n",
    "    recall_list.append(recall)"
   ]
  },
  {
   "cell_type": "code",
   "execution_count": null,
   "metadata": {},
   "outputs": [],
   "source": [
    "print(\"class|precision|recall\")\n",
    "print(\"-\"*25)\n",
    "\n",
    "for class_ in range(10):\n",
    "    print(f'{class_:>5}|{precision_list[class_]:>9.6f}|{recall_list[class_]:>9.6f}')"
   ]
  },
  {
   "cell_type": "code",
   "execution_count": null,
   "metadata": {},
   "outputs": [],
   "source": [
    "result = computeResult(theta_list[6], x_test_temp, x_maximum, 1)\n",
    "indexes = np.where(result == 1)\n",
    "print(indexes[1])\n",
    "plt.imshow(np.reshape(x_test[37, :], [8, 8]))\n",
    "plt.show()\n",
    "plt.imshow(np.reshape(x_test[39, :], [8, 8]))\n",
    "plt.show()"
   ]
  }
 ],
 "metadata": {
  "kernelspec": {
   "display_name": "DataVenv",
   "language": "python",
   "name": "python3"
  },
  "language_info": {
   "codemirror_mode": {
    "name": "ipython",
    "version": 3
   },
   "file_extension": ".py",
   "mimetype": "text/x-python",
   "name": "python",
   "nbconvert_exporter": "python",
   "pygments_lexer": "ipython3",
   "version": "3.11.8"
  }
 },
 "nbformat": 4,
 "nbformat_minor": 2
}
