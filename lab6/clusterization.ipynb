{
 "cells": [
  {
   "cell_type": "code",
   "outputs": [],
   "source": [
    "import numpy as np\n",
    "import csv\n",
    "from sklearn.model_selection import train_test_split\n",
    "from matplotlib import pyplot as plt"
   ],
   "metadata": {
    "collapsed": false,
    "ExecuteTime": {
     "end_time": "2024-04-03T15:56:21.182232Z",
     "start_time": "2024-04-03T15:56:21.178585Z"
    }
   },
   "id": "4e328e7bebd99c71",
   "execution_count": 102
  },
  {
   "cell_type": "code",
   "outputs": [],
   "source": [
    "with open('./admission.txt', 'r') as f:\n",
    "    reader = csv.reader(f)\n",
    "    X = []\n",
    "    y = []\n",
    "    for row in reader:\n",
    "        x1, x2, lbl = float(row[0]), float(row[1]), float(row[2])\n",
    "        X.append([x1, x2])\n",
    "        y.append(lbl)\n",
    "X = np.array(X)\n",
    "y = np.array(y)\n",
    " \n",
    "x_train, x_test, y_train, y_test = train_test_split(X, y, test_size=0.3, random_state=12345)"
   ],
   "metadata": {
    "collapsed": false,
    "ExecuteTime": {
     "end_time": "2024-04-03T15:56:21.194233Z",
     "start_time": "2024-04-03T15:56:21.184866Z"
    }
   },
   "id": "c63bd3cb22d45f5e",
   "execution_count": 103
  },
  {
   "cell_type": "code",
   "outputs": [
    {
     "name": "stdout",
     "output_type": "stream",
     "text": [
      "(70, 2)\n",
      "(30, 2)\n",
      "(70,)\n",
      "(30,)\n"
     ]
    }
   ],
   "source": [
    "print(x_train.shape)\n",
    "print(x_test.shape)\n",
    "print(y_train.shape)\n",
    "print(y_test.shape)"
   ],
   "metadata": {
    "collapsed": false,
    "ExecuteTime": {
     "end_time": "2024-04-03T15:56:21.202698Z",
     "start_time": "2024-04-03T15:56:21.197333Z"
    }
   },
   "id": "e5f16ff345add341",
   "execution_count": 104
  },
  {
   "cell_type": "code",
   "outputs": [],
   "source": [
    "def classify(X, y, example, k):\n",
    "    '''\n",
    "    :param X: zbiór (uczący) danych postaci ndarray (m, n), gdzie m to liczba przykładów, a n liczba cech\n",
    "    :param y: zbiór wartości (labels) w postaci wektora ndarray (m, ). Każdy z elementów ma wartość 0 lub 1\n",
    "    :param example: wektor cech danego przykładu postaci ndarray (n, )\n",
    "    :param k: parametr k algorytmu knn\n",
    "    :return: predykcja klasy przykładu. 0 lub 1\n",
    "    '''\n",
    "    \n",
    "    # 1. iteruj po wszystkich przykładach ze zbioru uczącego - X\n",
    "    #     a. dla każdego z przykładów oblicz dystans między aktualnie rozważanym przykładem uczącym a przykładem example, który jest poddany klasyfikacji\n",
    "    #     b. zapisz w kolekcji parę (dystans, klasa przykładu uczącego)\n",
    "    # 2. posortuj kolekcję względem dystansów, rosnąco\n",
    "    # 3. wybierz k pierwszych elementów (k najkrótszych dystansów)\n",
    "    # 4. klasa rozważanego przykładu example będzie taka jak większość wśród k przykładów z najkrótszym dystansem\n",
    " \n",
    "    list_of_distances = np.zeros((X.shape[0], 2))\n",
    " \n",
    "    for idx, x in enumerate(X):\n",
    "        distance = np.sqrt((x[0] - example[0]) ** 2 + (x[1] - example[1]) ** 2)\n",
    "        list_of_distances[idx, 0] = distance\n",
    "        list_of_distances[idx, 1] = y[idx]\n",
    "            \n",
    "        \n",
    "    list_of_distances = np.array(sorted(list_of_distances, key = lambda pair: pair[0]))\n",
    "    \n",
    "    num_of_0 = 0\n",
    "    num_of_1 = 0\n",
    "    \n",
    "    for i in range(k):\n",
    "        if list_of_distances[i, 1] == 0:\n",
    "            num_of_0 += 1\n",
    "        else:\n",
    "            num_of_1 += 1\n",
    "    \n",
    "    if num_of_0 > num_of_1:\n",
    "        return 0\n",
    "    else:\n",
    "        return 1"
   ],
   "metadata": {
    "collapsed": false,
    "ExecuteTime": {
     "end_time": "2024-04-03T15:56:21.212159Z",
     "start_time": "2024-04-03T15:56:21.204615Z"
    }
   },
   "id": "7044e9fa16008c3b",
   "execution_count": 105
  },
  {
   "cell_type": "code",
   "outputs": [
    {
     "data": {
      "text/plain": "[<matplotlib.lines.Line2D at 0x797b686282d0>]"
     },
     "execution_count": 107,
     "metadata": {},
     "output_type": "execute_result"
    },
    {
     "data": {
      "text/plain": "<Figure size 640x480 with 1 Axes>",
      "image/png": "[encoded data removed]"
     },
     "metadata": {},
     "output_type": "display_data"
    }
   ],
   "source": [
    "k_examples = [1, 3, 5, 7, 9, 11, 13, 15, 17, 19]\n",
    "accuracy_tab = []\n",
    "\n",
    "for k in k_examples:\n",
    "    y_pred = np.zeros(y_test.shape)\n",
    "    for example_idx, example in enumerate(x_test):\n",
    "        pred = classify(x_train, y_train, example, k)\n",
    "        y_pred[example_idx] = pred\n",
    "        \n",
    "    temp = np.where(y_pred == y_test, 1, 0)\n",
    "    \n",
    "    accuracy = np.sum(temp) / y_test.shape[0]\n",
    "    accuracy_tab.append(accuracy)\n",
    "    \n",
    "plt.figure()\n",
    "plt.plot(k_examples, accuracy_tab)\n",
    "    "
   ],
   "metadata": {
    "collapsed": false,
    "ExecuteTime": {
     "end_time": "2024-04-03T15:56:41.849622Z",
     "start_time": "2024-04-03T15:56:41.542493Z"
    }
   },
   "id": "776296234ff2ad64",
   "execution_count": 107
  }
 ],
 "metadata": {
  "kernelspec": {
   "display_name": "Python 3",
   "language": "python",
   "name": "python3"
  },
  "language_info": {
   "codemirror_mode": {
    "name": "ipython",
    "version": 2
   },
   "file_extension": ".py",
   "mimetype": "text/x-python",
   "name": "python",
   "nbconvert_exporter": "python",
   "pygments_lexer": "ipython2",
   "version": "2.7.6"
  }
 },
 "nbformat": 4,
 "nbformat_minor": 5
}
