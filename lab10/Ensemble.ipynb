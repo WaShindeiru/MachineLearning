{
 "cells": [
  {
   "cell_type": "code",
   "id": "initial_id",
   "metadata": {
    "collapsed": true,
    "ExecuteTime": {
     "end_time": "2024-05-22T14:09:25.350090Z",
     "start_time": "2024-05-22T14:09:25.347270Z"
    }
   },
   "source": [
    "import numpy as np\n",
    "import matplotlib.pyplot as plt\n",
    "\n",
    "from sklearn.datasets import load_wine\n",
    "from sklearn.tree import DecisionTreeClassifier\n",
    "from sklearn.ensemble import BaggingClassifier, AdaBoostClassifier, GradientBoostingClassifier\n",
    "from sklearn.model_selection import train_test_split, GridSearchCV\n",
    "from sklearn.metrics import f1_score"
   ],
   "outputs": [],
   "execution_count": 55
  },
  {
   "metadata": {},
   "cell_type": "markdown",
   "source": "### Preprocessing",
   "id": "49af32f114a24b1d"
  },
  {
   "metadata": {
    "ExecuteTime": {
     "end_time": "2024-05-22T14:09:25.385843Z",
     "start_time": "2024-05-22T14:09:25.380736Z"
    }
   },
   "cell_type": "code",
   "source": [
    "wine = load_wine()\n",
    "X = wine.data\n",
    "y = wine.target"
   ],
   "id": "a8e7738bd8b2cabe",
   "outputs": [],
   "execution_count": 56
  },
  {
   "metadata": {
    "ExecuteTime": {
     "end_time": "2024-05-22T14:09:25.389348Z",
     "start_time": "2024-05-22T14:09:25.386848Z"
    }
   },
   "cell_type": "code",
   "source": [
    "print(X.shape)\n",
    "print(y.shape)"
   ],
   "id": "38e6a3b341695e69",
   "outputs": [
    {
     "name": "stdout",
     "output_type": "stream",
     "text": [
      "(178, 13)\n",
      "(178,)\n"
     ]
    }
   ],
   "execution_count": 57
  },
  {
   "metadata": {},
   "cell_type": "code",
   "source": "x_train, x_test, y_train, y_test = train_test_split(X, y, test_size=0.2, random_state=15)",
   "id": "a011d286f13b6f64",
   "outputs": [],
   "execution_count": 58
  },
  {
   "metadata": {},
   "cell_type": "markdown",
   "source": "## Classification",
   "id": "bb91e7337d80052f"
  },
  {
   "metadata": {},
   "cell_type": "markdown",
   "source": "### DecisionTreeClassifier",
   "id": "2c75af513d979205"
  },
  {
   "metadata": {
    "ExecuteTime": {
     "end_time": "2024-05-22T14:09:25.395861Z",
     "start_time": "2024-05-22T14:09:25.393970Z"
    }
   },
   "cell_type": "code",
   "source": [
    "decisionTree = DecisionTreeClassifier()\n",
    "decisionTreeParams = {\n",
    "    \"min_samples_leaf\": [3, 4, 5]\n",
    "}"
   ],
   "id": "48b6129903ffab8e",
   "outputs": [],
   "execution_count": 59
  },
  {
   "metadata": {
    "ExecuteTime": {
     "end_time": "2024-05-22T14:09:25.398657Z",
     "start_time": "2024-05-22T14:09:25.396418Z"
    }
   },
   "cell_type": "code",
   "source": [
    "gridSearch = GridSearchCV(estimator=decisionTree,\n",
    "                          param_grid=decisionTreeParams,\n",
    "                          scoring=\"f1_weighted\",\n",
    "                          cv=5,\n",
    "                          n_jobs=-1)"
   ],
   "id": "ce13c5632ef568a7",
   "outputs": [],
   "execution_count": 60
  },
  {
   "metadata": {
    "ExecuteTime": {
     "end_time": "2024-05-22T14:09:25.428190Z",
     "start_time": "2024-05-22T14:09:25.399685Z"
    }
   },
   "cell_type": "code",
   "source": [
    "gridSearch.fit(x_train, y_train)\n",
    "gridSearch.score(x_test, y_test)"
   ],
   "id": "d434fa6400892e7a",
   "outputs": [
    {
     "data": {
      "text/plain": [
       "0.8631727907090228"
      ]
     },
     "execution_count": 61,
     "metadata": {},
     "output_type": "execute_result"
    }
   ],
   "execution_count": 61
  },
  {
   "metadata": {},
   "cell_type": "markdown",
   "source": "### BaggingClassifier",
   "id": "48e8f9da3b77ee07"
  },
  {
   "metadata": {
    "ExecuteTime": {
     "end_time": "2024-05-22T14:09:25.573542Z",
     "start_time": "2024-05-22T14:09:25.428858Z"
    }
   },
   "cell_type": "code",
   "source": [
    "bagging_clf = BaggingClassifier(n_estimators=100, random_state=42)\n",
    "\n",
    "bagging_clf.fit(x_train, y_train)\n",
    "\n",
    "y_pred = bagging_clf.predict(x_test)\n",
    "score = f1_score(y_test, y_pred, average='macro')\n",
    "print(score)"
   ],
   "id": "21d1d19b1c185d3b",
   "outputs": [
    {
     "name": "stdout",
     "output_type": "stream",
     "text": [
      "1.0\n"
     ]
    }
   ],
   "execution_count": 62
  },
  {
   "metadata": {},
   "cell_type": "markdown",
   "source": "### AdaBoostClassifier",
   "id": "2dbbd0e0a5dd16d2"
  },
  {
   "metadata": {
    "ExecuteTime": {
     "end_time": "2024-05-22T14:09:25.695284Z",
     "start_time": "2024-05-22T14:09:25.574208Z"
    }
   },
   "cell_type": "code",
   "source": [
    "ada = AdaBoostClassifier(n_estimators=100, random_state=42)\n",
    "\n",
    "ada.fit(x_train, y_train)\n",
    "\n",
    "y_pred = ada.predict(x_test)\n",
    "score = f1_score(y_test, y_pred, average='macro')\n",
    "print(score)"
   ],
   "id": "ccf72077d37db735",
   "outputs": [
    {
     "name": "stdout",
     "output_type": "stream",
     "text": [
      "0.9721739130434782\n"
     ]
    },
    {
     "name": "stderr",
     "output_type": "stream",
     "text": [
      "/home/washindeiru/.venv/DataVenv/lib/python3.12/site-packages/sklearn/ensemble/_weight_boosting.py:527: FutureWarning: The SAMME.R algorithm (the default) is deprecated and will be removed in 1.6. Use the SAMME algorithm to circumvent this warning.\n",
      "  warnings.warn(\n"
     ]
    }
   ],
   "execution_count": 63
  },
  {
   "metadata": {},
   "cell_type": "markdown",
   "source": "### GradientBoostingClassifier",
   "id": "9fdc2a3147f4fffd"
  },
  {
   "metadata": {
    "ExecuteTime": {
     "end_time": "2024-05-22T14:09:25.844809Z",
     "start_time": "2024-05-22T14:09:25.696048Z"
    }
   },
   "cell_type": "code",
   "source": [
    "grad = GradientBoostingClassifier(n_estimators=100, random_state=42, learning_rate=1, subsample=0.5)\n",
    "\n",
    "grad.fit(x_train, y_train)\n",
    "\n",
    "y_pred = grad.predict(x_test)\n",
    "score = f1_score(y_test, y_pred, average='macro')\n",
    "print(score)"
   ],
   "id": "68176d0319174b6f",
   "outputs": [
    {
     "name": "stdout",
     "output_type": "stream",
     "text": [
      "1.0\n"
     ]
    }
   ],
   "execution_count": 64
  }
 ],
 "metadata": {
  "kernelspec": {
   "display_name": "Python 3",
   "language": "python",
   "name": "python3"
  },
  "language_info": {
   "codemirror_mode": {
    "name": "ipython",
    "version": 2
   },
   "file_extension": ".py",
   "mimetype": "text/x-python",
   "name": "python",
   "nbconvert_exporter": "python",
   "pygments_lexer": "ipython2",
   "version": "2.7.6"
  }
 },
 "nbformat": 4,
 "nbformat_minor": 5
}
